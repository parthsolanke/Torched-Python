{
 "cells": [
  {
   "cell_type": "code",
   "execution_count": 1,
   "metadata": {},
   "outputs": [],
   "source": [
    "import torch"
   ]
  },
  {
   "cell_type": "code",
   "execution_count": 7,
   "metadata": {},
   "outputs": [
    {
     "name": "stdout",
     "output_type": "stream",
     "text": [
      "x = tensor([ 0.7953, -1.5040,  0.2418], requires_grad=True)\n",
      "y = x * 2 = tensor([ 1.5906, -3.0080,  0.4835], grad_fn=<MulBackward0>)\n",
      "z.mean() = 11.811741828918457\n",
      "z.grad_fn = <MeanBackward0 object at 0x00000250AFCF9B20>\n"
     ]
    }
   ],
   "source": [
    "# Create a tensor and set requires_grad=True to track computation with it\n",
    "x = torch.randn(3, requires_grad=True)\n",
    "print(f\"x = {x}\")\n",
    "\n",
    "y = x * 2\n",
    "print(f\"y = x * 2 = {y}\")\n",
    "\n",
    "z = y * y * 3\n",
    "z = z.mean()\n",
    "print(f\"z.mean() = {z}\")\n",
    "print(f\"z.grad_fn = {z.grad_fn}\")"
   ]
  },
  {
   "cell_type": "code",
   "execution_count": 8,
   "metadata": {},
   "outputs": [
    {
     "name": "stdout",
     "output_type": "stream",
     "text": [
      "x.grad = tensor([  6.3626, -12.0318,   1.9341])\n"
     ]
    }
   ],
   "source": [
    "# .backward() computes the gradient of the tensor\n",
    "z.backward() # dz/dx\n",
    "print(f\"x.grad = {x.grad}\")"
   ]
  },
  {
   "cell_type": "code",
   "execution_count": 10,
   "metadata": {},
   "outputs": [
    {
     "name": "stdout",
     "output_type": "stream",
     "text": [
      "x.requires_grad = True\n",
      "False\n"
     ]
    }
   ],
   "source": [
    "# You can also stop autograd from tracking history on Tensors with .requires_grad=True by wrapping the code block in with torch.no_grad():\n",
    "# 1. x.requires_grad_(False)\n",
    "# 2. x.detach()\n",
    "# 3. wrap in with torch.no_grad(): block \n",
    "print(f\"x.requires_grad = {x.requires_grad}\")\n",
    "with torch.no_grad():\n",
    "    print((x ** 2).requires_grad)"
   ]
  },
  {
   "cell_type": "code",
   "execution_count": 13,
   "metadata": {},
   "outputs": [
    {
     "name": "stdout",
     "output_type": "stream",
     "text": [
      "tensor([2., 2., 2.])\n",
      "tensor([2., 2., 2.])\n",
      "tensor([2., 2., 2.])\n"
     ]
    }
   ],
   "source": [
    "# gardients acumulate and add up in the .grad attribute hence you need to zero it out before calling .backward()\n",
    "\n",
    "w = torch.ones(3, requires_grad=True)\n",
    "\n",
    "for _ in range(3):\n",
    "    out = (w * 2).sum()\n",
    "\n",
    "    out.backward()\n",
    "    print(w.grad)\n",
    "    \n",
    "    w.grad.zero_() # zero out the gradients"
   ]
  },
  {
   "cell_type": "code",
   "execution_count": null,
   "metadata": {},
   "outputs": [],
   "source": []
  }
 ],
 "metadata": {
  "kernelspec": {
   "display_name": "Python 3",
   "language": "python",
   "name": "python3"
  },
  "language_info": {
   "codemirror_mode": {
    "name": "ipython",
    "version": 3
   },
   "file_extension": ".py",
   "mimetype": "text/x-python",
   "name": "python",
   "nbconvert_exporter": "python",
   "pygments_lexer": "ipython3",
   "version": "3.9.9"
  }
 },
 "nbformat": 4,
 "nbformat_minor": 2
}
