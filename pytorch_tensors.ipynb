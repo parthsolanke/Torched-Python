{
 "cells": [
  {
   "cell_type": "code",
   "execution_count": 18,
   "metadata": {},
   "outputs": [],
   "source": [
    "import torch\n",
    "import numpy as np"
   ]
  },
  {
   "cell_type": "code",
   "execution_count": 8,
   "metadata": {},
   "outputs": [
    {
     "name": "stdout",
     "output_type": "stream",
     "text": [
      "\n",
      "1D empty tensor: tensor([0.0000e+00, 7.7071e-44, 4.2231e-08, 2.0796e+20, 1.3411e-08])\n",
      "\n",
      "2D empty tensor: tensor([[2.0689e+18, 5.7313e-43, 2.0689e+18],\n",
      "        [5.7313e-43, 2.0689e+18, 5.7313e-43],\n",
      "        [2.0689e+18, 5.7313e-43, 2.0689e+18],\n",
      "        [5.7313e-43, 2.0689e+18, 5.7313e-43],\n",
      "        [2.0689e+18, 5.7313e-43, 2.0689e+18]])\n",
      "\n",
      "3D empty tensor: tensor([[[0.0000e+00, 0.0000e+00, 0.0000e+00, 0.0000e+00],\n",
      "         [0.0000e+00, 7.6224e-39, 7.0295e+28, 6.1949e-04],\n",
      "         [1.3818e-19, 4.7302e+22, 7.9325e+34, 1.7753e+28]],\n",
      "\n",
      "        [[2.7296e+17, 3.9177e-02, 4.7429e+30, 5.1476e+22],\n",
      "         [7.9325e+34, 1.9051e+17, 1.8318e+25, 1.9888e+23],\n",
      "         [7.0854e+02, 2.9388e+29, 5.0856e+31, 7.5338e+28]],\n",
      "\n",
      "        [[8.3195e+35, 2.9882e-18, 2.6837e+17, 9.3213e-09],\n",
      "         [4.4319e+27, 2.1130e-19, 1.8888e+31, 1.7056e+28],\n",
      "         [1.6020e-19, 4.4721e+21, 4.4330e+27, 1.3848e-14]],\n",
      "\n",
      "        [[3.7293e-08, 2.9508e+29, 7.5556e+31, 2.9870e-18],\n",
      "         [1.3874e-08, 4.4319e+27, 2.1130e-19, 1.8888e+31],\n",
      "         [1.5793e-19, 2.8538e+17, 1.7034e+28, 1.3843e-19]],\n",
      "\n",
      "        [[4.7302e+22, 7.9325e+34, 1.7753e+28, 2.7296e+17],\n",
      "         [3.9177e-02, 4.7429e+30, 5.1476e+22, 7.9325e+34],\n",
      "         [1.4587e-19, 1.4917e-07, 2.9508e+29, 7.5556e+31]]])\n"
     ]
    }
   ],
   "source": [
    "# 1D empty tensor\n",
    "x = torch.empty(5) # 5 elements\n",
    "print(f\"\\n1D empty tensor: {x}\")\n",
    "\n",
    "# 2D empty tensor\n",
    "x = torch.empty(5, 3) # 5 rows, 3 columns\n",
    "print(f\"\\n2D empty tensor: {x}\")\n",
    "\n",
    "# 3D empty tensor\n",
    "x = torch.empty(5, 3, 4) # 5 rows, 3 columns, 4 depth\n",
    "print(f\"\\n3D empty tensor: {x}\")"
   ]
  },
  {
   "cell_type": "code",
   "execution_count": 7,
   "metadata": {},
   "outputs": [
    {
     "name": "stdout",
     "output_type": "stream",
     "text": [
      "\n",
      "Randomized tensor: tensor([[0.0456, 0.6017, 0.0915],\n",
      "        [0.5792, 0.0704, 0.0936],\n",
      "        [0.3082, 0.7233, 0.2456],\n",
      "        [0.8123, 0.1648, 0.1516],\n",
      "        [0.6736, 0.9594, 0.2347]])\n",
      "\n",
      "Zero tensor: tensor([[0, 0, 0],\n",
      "        [0, 0, 0],\n",
      "        [0, 0, 0],\n",
      "        [0, 0, 0],\n",
      "        [0, 0, 0]])\n"
     ]
    }
   ],
   "source": [
    "# Randomizing the tensor\n",
    "x = torch.rand(5, 3)\n",
    "print(f\"\\nRandomized tensor: {x}\")\n",
    "\n",
    "# Zero tensor\n",
    "x = torch.zeros(5, 3, dtype=torch.long) # data type is long\n",
    "print(f\"\\nZero tensor: {x}\")"
   ]
  },
  {
   "cell_type": "code",
   "execution_count": 9,
   "metadata": {},
   "outputs": [
    {
     "name": "stdout",
     "output_type": "stream",
     "text": [
      "\n",
      "Addition: tensor([[ 0.0211,  1.3778,  0.7738],\n",
      "        [-1.2633,  2.9574, -0.3404],\n",
      "        [ 1.3868,  0.2428,  0.6795],\n",
      "        [-1.4174, -0.7461,  0.1193],\n",
      "        [-1.2923,  1.3479, -1.7267]])\n",
      "\n",
      "Subtraction: tensor([[-0.9629,  0.3846,  2.4042],\n",
      "        [ 1.2393, -0.5138,  0.9462],\n",
      "        [ 0.3608, -0.5307, -1.4719],\n",
      "        [-1.0807, -1.3954, -2.4621],\n",
      "        [ 0.1630, -2.3311,  0.3758]])\n",
      "\n",
      "Multiplication: tensor([[-0.2317,  0.4376, -1.2953],\n",
      "        [ 0.0150,  2.1206, -0.1949],\n",
      "        [ 0.4483, -0.0557, -0.4262],\n",
      "        [ 0.2103, -0.3476, -1.5119],\n",
      "        [ 0.4108, -0.9043,  0.7101]])\n",
      "\n",
      "Division: tensor([[-0.9572,  1.7745, -1.9493],\n",
      "        [ 0.0096,  0.7040, -0.4709],\n",
      "        [ 1.7033, -0.3722, -0.3683],\n",
      "        [ 7.4185, -3.2981, -0.9075],\n",
      "        [ 0.7760, -0.2672,  0.6425]])\n"
     ]
    }
   ],
   "source": [
    "# Operations on tensors\n",
    "# Rules: \n",
    "# 1. The size of the tensor must match\n",
    "# 2. The data type of the tensor must match\n",
    "x = torch.randn(5, 3)\n",
    "y = torch.randn(5, 3)\n",
    "\n",
    "# addition\n",
    "sum = x + y # or torch.add(x, y) or y.add_(x) => in-place addition\n",
    "subs = x - y # or torch.sub(x, y) or y.sub_(x) => in-place subtraction\n",
    "mul = x * y # or torch.mul(x, y) or y.mul_(x) => in-place multiplication\n",
    "div = x / y # or torch.div(x, y) or y.div_(x) => in-place division\n",
    "\n",
    "print(f\"\\nAddition: {sum}\")\n",
    "print(f\"\\nSubtraction: {subs}\")\n",
    "print(f\"\\nMultiplication: {mul}\")\n",
    "print(f\"\\nDivision: {div}\")"
   ]
  },
  {
   "cell_type": "code",
   "execution_count": 11,
   "metadata": {},
   "outputs": [
    {
     "name": "stdout",
     "output_type": "stream",
     "text": [
      "\n",
      "Original tensor: tensor([[-0.6754,  3.5626,  0.4984,  1.0385],\n",
      "        [-0.2999,  1.7827, -1.1339, -0.0790],\n",
      "        [-1.5659, -1.9872,  1.9913, -1.1351],\n",
      "        [-1.5179, -0.0627,  0.2163,  0.5323]])\n",
      "\n",
      "Sliced tensor: tensor([ 3.5626,  1.7827, -1.9872, -0.0627])\n",
      "\n",
      "Sliced tensor: tensor([-0.2999,  1.7827, -1.1339, -0.0790])\n",
      "\n",
      "Sliced tensor: 1.7827423810958862\n",
      "\n",
      "Sliced tensor: 1.7827423810958862\n"
     ]
    }
   ],
   "source": [
    "# Slicing\n",
    "x = torch.randn(4, 4)\n",
    "print(f\"\\nOriginal tensor: {x}\")\n",
    "print(f\"\\nSliced tensor: {x[:, 1]}\") # all rows, 1st column\n",
    "print(f\"\\nSliced tensor: {x[1, :]}\") # 1st row, all columns\n",
    "print(f\"\\nSliced tensor: {x[1, 1]}\") # 1st row, 1st column\n",
    "print(f\"\\nSliced tensor: {x[1, 1].item()}\") # 1st row, 1st column as a scalar"
   ]
  },
  {
   "cell_type": "code",
   "execution_count": 12,
   "metadata": {},
   "outputs": [
    {
     "name": "stdout",
     "output_type": "stream",
     "text": [
      "\n",
      "Original tensor: tensor([[ 0.5448,  0.3986, -1.8885,  1.0044],\n",
      "        [-0.6116, -0.0329, -1.7490, -0.5814],\n",
      "        [ 1.6869,  2.0621, -0.1590,  0.9401],\n",
      "        [ 0.1116, -0.5627, -0.5714,  0.3753]])\n",
      "\n",
      "Reshaped tensor: tensor([ 0.5448,  0.3986, -1.8885,  1.0044, -0.6116, -0.0329, -1.7490, -0.5814,\n",
      "         1.6869,  2.0621, -0.1590,  0.9401,  0.1116, -0.5627, -0.5714,  0.3753])\n",
      "\n",
      "Reshaped tensor: tensor([[ 0.5448,  0.3986, -1.8885,  1.0044, -0.6116, -0.0329, -1.7490, -0.5814],\n",
      "        [ 1.6869,  2.0621, -0.1590,  0.9401,  0.1116, -0.5627, -0.5714,  0.3753]])\n"
     ]
    }
   ],
   "source": [
    "# Reshaping\n",
    "x = torch.randn(4, 4)\n",
    "y = x.view(16) # 1D tensor\n",
    "z = x.view(-1, 8) # 2D tensor with 8 columns, -1 means infer the number of rows\n",
    "print(f\"\\nOriginal tensor: {x}\")\n",
    "print(f\"\\nReshaped tensor: {y}\")\n",
    "print(f\"\\nReshaped tensor: {z}\")"
   ]
  },
  {
   "cell_type": "code",
   "execution_count": 21,
   "metadata": {},
   "outputs": [
    {
     "name": "stdout",
     "output_type": "stream",
     "text": [
      "\n",
      "Tensor: tensor([[ 1.4791,  1.0395,  1.6283],\n",
      "        [-0.2131, -0.9950, -0.9141],\n",
      "        [-0.4141, -0.6202,  0.7359],\n",
      "        [-0.5186, -0.9551, -1.2847],\n",
      "        [ 0.6719,  0.2767, -1.7335]])\n",
      "\n",
      "Numpy array: [[ 1.4790524   1.039518    1.6283363 ]\n",
      " [-0.21310085 -0.9949818  -0.91413736]\n",
      " [-0.4141088  -0.620175    0.73588645]\n",
      " [-0.5186243  -0.9550765  -1.2846736 ]\n",
      " [ 0.6719237   0.27672404 -1.7335113 ]]\n",
      "\n",
      "Numpy array: [[0.17982845 0.96497808 0.11141776]\n",
      " [0.28893344 0.23653653 0.13319003]\n",
      " [0.11114028 0.69649247 0.3573896 ]\n",
      " [0.53771674 0.41232591 0.20013374]\n",
      " [0.34055305 0.38620791 0.93328775]]\n",
      "\n",
      "Tensor: tensor([[0.1798, 0.9650, 0.1114],\n",
      "        [0.2889, 0.2365, 0.1332],\n",
      "        [0.1111, 0.6965, 0.3574],\n",
      "        [0.5377, 0.4123, 0.2001],\n",
      "        [0.3406, 0.3862, 0.9333]], dtype=torch.float64)\n"
     ]
    }
   ],
   "source": [
    "# Converting to numpy\n",
    "a = torch.randn(5, 3)\n",
    "print(f\"\\nTensor: {a}\")\n",
    "b = a.numpy()\n",
    "print(f\"\\nNumpy array: {b}\")\n",
    "# Note: The numpy array and the tensor share the same memory location and changing one will change the other\n",
    "\n",
    "# Converting from numpy\n",
    "a = np.random.rand(5, 3)\n",
    "print(f\"\\nNumpy array: {a}\")\n",
    "b = torch.from_numpy(a)\n",
    "print(f\"\\nTensor: {b}\")"
   ]
  },
  {
   "cell_type": "code",
   "execution_count": 24,
   "metadata": {},
   "outputs": [],
   "source": [
    "# CUDA tensors (GPU) for this to work, you need to have a CUDA enabled GPU and the CUDA toolkit installed\n",
    "# Tensors can be moved to any device using the .to method\n",
    "if torch.cuda.is_available():\n",
    "    device = torch.device(\"cuda\")\n",
    "    print(f\"\\nDevice: {device}\")\n",
    "    y = torch.ones_like(x, device=device) # directly create a tensor on GPU\n",
    "    x = x.to(device) # or just use strings ``.to(\"cuda\")``\n",
    "    z = x + y\n",
    "    print(f\"\\nCUDA tensor: {z}\")\n",
    "    print(f\"\\nCUDA tensor: {z.to('cpu', torch.double)}\") # ``.to`` can also change dtype together!\n",
    "# Note: 1. canot convert a tensor from GPU to CPU if the tensor is not on GPU and vice versa\n",
    "#       2. The tensors on GPU are faster than the tensors on CPU\n",
    "#       3. The tensors on GPU are not compatible with the tensors on CPU\n",
    "#       4. The tensors on GPU are not compatible with the numpy arrays hence you need to convert the tensor to CPU before converting it to numpy array"
   ]
  },
  {
   "cell_type": "code",
   "execution_count": 25,
   "metadata": {},
   "outputs": [],
   "source": [
    "# Autograd\n",
    "# The autograd package provides automatic differentiation for all operations on Tensors\n",
    "# If you set the attribute .requires_grad as True, it starts to track all operations on it gradient for this tensor will be accumulated into .grad attribute\n",
    "# When you finish your computation you can call .backward() and have all the gradients computed automatically\n",
    "x = torch.ones(2, 2, requires_grad=True) # default requires_grad is False"
   ]
  }
 ],
 "metadata": {
  "kernelspec": {
   "display_name": "Python 3",
   "language": "python",
   "name": "python3"
  },
  "language_info": {
   "codemirror_mode": {
    "name": "ipython",
    "version": 3
   },
   "file_extension": ".py",
   "mimetype": "text/x-python",
   "name": "python",
   "nbconvert_exporter": "python",
   "pygments_lexer": "ipython3",
   "version": "3.9.9"
  }
 },
 "nbformat": 4,
 "nbformat_minor": 2
}
